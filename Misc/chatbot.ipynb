{
 "cells": [
  {
   "cell_type": "code",
   "execution_count": 112,
   "id": "3a7bc995",
   "metadata": {},
   "outputs": [],
   "source": [
    "from typing import List\n",
    "from langchain_core.messages import AIMessage, HumanMessage, ToolMessage, SystemMessage\n",
    "import json\n"
   ]
  },
  {
   "cell_type": "code",
   "execution_count": 113,
   "id": "02ac968c",
   "metadata": {},
   "outputs": [],
   "source": [
    "from langchain_core.output_parsers import JsonOutputParser\n",
    "from langchain_core.prompts import PromptTemplate\n",
    "from langchain_core.pydantic_v1 import BaseModel, Field\n",
    "from langchain_openai import ChatOpenAI\n",
    "\n",
    "# Define your Pydantic data model for the expected JSON output.\n",
    "class SQLResponse(BaseModel):\n",
    "    conversation_type: str = Field(\n",
    "        description=\"Type of conversation: either 'general' or 'sql_query'\"\n",
    "    )\n",
    "    sql_query: str = Field(\n",
    "        description=\"The SQL query to be executed (should be an empty string if not a query)\"\n",
    "    )\n",
    "\n",
    "parser = JsonOutputParser(pydantic_object=SQLResponse)"
   ]
  },
  {
   "cell_type": "code",
   "execution_count": null,
   "id": "3f006022",
   "metadata": {},
   "outputs": [],
   "source": [
    "llm = ChatOpenAI(api_key=\"YOUR-API-KEY\", model=\"gpt-3.5-turbo\", temperature=0)"
   ]
  },
  {
   "cell_type": "code",
   "execution_count": 116,
   "id": "782c8231",
   "metadata": {},
   "outputs": [],
   "source": [
    "sql_generation_prompt = \"\"\"You are an expert SQL developer and you have access to a MySQL 8.0 database with 2 tables called 'PRODUCT' and 'SALES'. \n",
    "The 'PRODUCT' table just have 1 column called 'product_name' and the 'SALES' table has 3 columns called 'sale_date', 'product_name' and 'total_quantity'.\n",
    "'product_name' is the primary key of the 'PRODUCT' table and a foreign key in the 'SALES' table. 'sale_date' and 'product_name' are the composite primary key of the 'SALES' table.\n",
    "The 'PRODUCT' table contains a list of products and the 'SALES' table contains sales records for those products. If the user\n",
    "is having a general conversation then answer normal conversation. If the user is asking for a SQL query, then generate a SQL query based on the context provided.\n",
    "Generate a SQL query based on the following context to answer the query asked by the user. The final output is a json with keys 'conversation_type' and 'response'.\n",
    "The 'conversation_type' key should be either 'general' or 'sql_query' and the 'response' key should contain your response either to the general questions or the SQL query to be executed.\n",
    "{format_instructions}\\n user_query: {user_query}\"\"\"\n",
    "\n",
    "\n",
    "# \"What is the total quantity of product pizza sold in the last month?\"\n",
    "\n",
    "def sql_generation_chain(state):\n",
    "    prompt = PromptTemplate(\n",
    "        template=sql_generation_prompt,\n",
    "        input_variables=[\"user_query\"],\n",
    "        partial_variables={\"format_instructions\": parser.get_format_instructions()},\n",
    "    )\n",
    "\n",
    "    # Compose the chain by combining prompt, model, and parser.\n",
    "    chain = prompt | llm | parser\n",
    "\n",
    "    user_query = state[\"messages\"][-1].content\n",
    "\n",
    "    # Execute the chain.\n",
    "    result = chain.invoke({\"user_query\": user_query})\n",
    "\n",
    "    return {\"messages\": [AIMessage(content=json.dumps(result, indent=2))]}"
   ]
  },
  {
   "cell_type": "code",
   "execution_count": 117,
   "id": "a022e760",
   "metadata": {},
   "outputs": [],
   "source": [
    "\n",
    "from google.cloud.sql.connector import Connector\n",
    "import sqlalchemy\n",
    "import os\n",
    "import pandas as pd\n",
    "\n",
    "def run_sql_command(state):\n",
    "\n",
    "    MYSQL_HOST = \"35.192.172.104\"\n",
    "    MYSQL_USER = \"shrey\"\n",
    "    MYSQL_PASSWORD = \"shrey\"\n",
    "    MYSQL_DATABASE = \"combined_transaction_data\"\n",
    "\n",
    "    host = MYSQL_HOST\n",
    "    user = MYSQL_USER\n",
    "    password = MYSQL_PASSWORD\n",
    "    database = MYSQL_DATABASE\n",
    "    connector = Connector()\n",
    "\n",
    "    def getconn():\n",
    "        conn = connector.connect(\n",
    "            \"primordial-veld-450618-n4:us-central1:mlops-sql\",  # Cloud SQL instance connection name\n",
    "            \"pymysql\",  # Database driver\n",
    "            user=user,  # Database user\n",
    "            password=password,  # Database password\n",
    "            db=database,\n",
    "        )\n",
    "        return conn\n",
    "\n",
    "    pool = sqlalchemy.create_engine(\n",
    "        \"mysql+pymysql://\",  # or \"postgresql+pg8000://\" for PostgreSQL, \"mssql+pytds://\" for SQL Server\n",
    "        creator=getconn,\n",
    "    )\n",
    "    \n",
    "    df = pd.read_sql(json.loads(state[\"messages\"][-1].content)['response'], pool)\n",
    "    connector.close()\n",
    "    # return df\n",
    "    df_json = df.to_json(orient='records')\n",
    "    return {\"messages\": [AIMessage(content=df_json)]}"
   ]
  },
  {
   "cell_type": "code",
   "execution_count": 118,
   "id": "d73fdfcd",
   "metadata": {},
   "outputs": [],
   "source": [
    "def display_last_message(state):\n",
    "    return {\"messages\": [AIMessage(content=json.loads(state[\"messages\"][-1].content)['response'])]}"
   ]
  },
  {
   "cell_type": "code",
   "execution_count": 119,
   "id": "22bcde78",
   "metadata": {},
   "outputs": [],
   "source": [
    "from langgraph.graph import StateGraph, START, END\n",
    "def get_state(state):\n",
    "    last_message = json.loads(state[\"messages\"][-1].content)\n",
    "    if last_message[\"conversation_type\"] == \"sql_query\":\n",
    "        return \"run_sql_command\"\n",
    "    else:\n",
    "        return \"display_last_message\""
   ]
  },
  {
   "cell_type": "code",
   "execution_count": 120,
   "id": "3b19eaca",
   "metadata": {},
   "outputs": [],
   "source": [
    "from langgraph.checkpoint.memory import MemorySaver\n",
    "from langgraph.graph.message import add_messages\n",
    "from typing import Annotated\n",
    "from typing_extensions import TypedDict\n",
    "\n",
    "\n",
    "class State(TypedDict):\n",
    "    messages: Annotated[list, add_messages]\n",
    "\n",
    "\n",
    "memory = MemorySaver()\n",
    "workflow = StateGraph(State)\n",
    "workflow.add_node(\"sql_generation_chain\", sql_generation_chain)\n",
    "workflow.add_node(\"run_sql_command\", run_sql_command)\n",
    "workflow.add_node(\"display_last_message\", display_last_message)\n",
    "\n",
    "\n",
    "workflow.add_edge(START, \"sql_generation_chain\")\n",
    "workflow.add_conditional_edges(\"sql_generation_chain\", get_state, [\"run_sql_command\", \"display_last_message\"])\n",
    "# workflow.add_edge(\"sql_generation_chain\", \"run_sql_command\")\n",
    "workflow.add_edge(\"display_last_message\", END)\n",
    "workflow.add_edge(\"run_sql_command\", END)\n",
    "graph = workflow.compile(checkpointer=memory)"
   ]
  },
  {
   "cell_type": "code",
   "execution_count": 121,
   "id": "559cdcec",
   "metadata": {},
   "outputs": [],
   "source": [
    "# from IPython.display import Image, display\n",
    "\n",
    "# display(Image(graph.get_graph().draw_mermaid_png()))"
   ]
  },
  {
   "cell_type": "code",
   "execution_count": null,
   "id": "7fb52adc",
   "metadata": {},
   "outputs": [],
   "source": [
    "import uuid\n",
    "\n",
    "config = {\"configurable\": {\"thread_id\": str(uuid.uuid4())}}\n",
    "while True:\n",
    "    user = input(\"User (q/Q to quit): \")\n",
    "    print(f\"User (q/Q to quit): {user}\")\n",
    "    if user in {\"q\", \"Q\"}:\n",
    "        print(\"AI: Byebye\")\n",
    "        break\n",
    "    output = None\n",
    "    for output in graph.stream(\n",
    "        {\"messages\": [HumanMessage(content=user)]}, config=config, stream_mode=\"updates\"\n",
    "    ):\n",
    "        last_message = next(iter(output.values()))[\"messages\"][-1]\n",
    "        last_message.pretty_print()\n",
    "\n",
    "    if output and \"prompt\" in output:\n",
    "        print(\"Done!\")"
   ]
  },
  {
   "cell_type": "code",
   "execution_count": null,
   "id": "c713922e",
   "metadata": {},
   "outputs": [],
   "source": []
  }
 ],
 "metadata": {
  "kernelspec": {
   "display_name": "llm",
   "language": "python",
   "name": "python3"
  },
  "language_info": {
   "codemirror_mode": {
    "name": "ipython",
    "version": 3
   },
   "file_extension": ".py",
   "mimetype": "text/x-python",
   "name": "python",
   "nbconvert_exporter": "python",
   "pygments_lexer": "ipython3",
   "version": "3.12.7"
  }
 },
 "nbformat": 4,
 "nbformat_minor": 5
}
