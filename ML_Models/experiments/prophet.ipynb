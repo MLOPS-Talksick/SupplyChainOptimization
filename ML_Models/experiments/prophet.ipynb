{
 "cells": [
  {
   "cell_type": "code",
   "execution_count": 1,
   "id": "8911164e",
   "metadata": {},
   "outputs": [
    {
     "name": "stdout",
     "output_type": "stream",
     "text": [
      "Collecting prophet\n",
      "  Downloading prophet-1.1.6-py3-none-win_amd64.whl.metadata (3.6 kB)\n",
      "Collecting cmdstanpy>=1.0.4 (from prophet)\n",
      "  Downloading cmdstanpy-1.2.5-py3-none-any.whl.metadata (4.0 kB)\n",
      "Requirement already satisfied: numpy>=1.15.4 in c:\\users\\shrey\\anaconda3\\lib\\site-packages (from prophet) (1.25.2)\n",
      "Requirement already satisfied: matplotlib>=2.0.0 in c:\\users\\shrey\\anaconda3\\lib\\site-packages (from prophet) (3.8.0)\n",
      "Requirement already satisfied: pandas>=1.0.4 in c:\\users\\shrey\\anaconda3\\lib\\site-packages (from prophet) (2.2.2)\n",
      "Collecting holidays<1,>=0.25 (from prophet)\n",
      "  Downloading holidays-0.67-py3-none-any.whl.metadata (27 kB)\n",
      "Requirement already satisfied: tqdm>=4.36.1 in c:\\users\\shrey\\anaconda3\\lib\\site-packages (from prophet) (4.65.0)\n",
      "Requirement already satisfied: importlib-resources in c:\\users\\shrey\\anaconda3\\lib\\site-packages (from prophet) (5.12.0)\n",
      "Collecting stanio<2.0.0,>=0.4.0 (from cmdstanpy>=1.0.4->prophet)\n",
      "  Downloading stanio-0.5.1-py3-none-any.whl.metadata (1.6 kB)\n",
      "Requirement already satisfied: python-dateutil in c:\\users\\shrey\\anaconda3\\lib\\site-packages (from holidays<1,>=0.25->prophet) (2.8.2)\n",
      "Requirement already satisfied: contourpy>=1.0.1 in c:\\users\\shrey\\anaconda3\\lib\\site-packages (from matplotlib>=2.0.0->prophet) (1.0.5)\n",
      "Requirement already satisfied: cycler>=0.10 in c:\\users\\shrey\\anaconda3\\lib\\site-packages (from matplotlib>=2.0.0->prophet) (0.11.0)\n",
      "Requirement already satisfied: fonttools>=4.22.0 in c:\\users\\shrey\\anaconda3\\lib\\site-packages (from matplotlib>=2.0.0->prophet) (4.25.0)\n",
      "Requirement already satisfied: kiwisolver>=1.0.1 in c:\\users\\shrey\\anaconda3\\lib\\site-packages (from matplotlib>=2.0.0->prophet) (1.4.4)\n",
      "Requirement already satisfied: packaging>=20.0 in c:\\users\\shrey\\anaconda3\\lib\\site-packages (from matplotlib>=2.0.0->prophet) (23.1)\n",
      "Requirement already satisfied: pillow>=6.2.0 in c:\\users\\shrey\\anaconda3\\lib\\site-packages (from matplotlib>=2.0.0->prophet) (10.0.1)\n",
      "Requirement already satisfied: pyparsing>=2.3.1 in c:\\users\\shrey\\anaconda3\\lib\\site-packages (from matplotlib>=2.0.0->prophet) (3.0.9)\n",
      "Requirement already satisfied: zipp>=3.1.0 in c:\\users\\shrey\\anaconda3\\lib\\site-packages (from importlib-resources->prophet) (3.11.0)\n",
      "Requirement already satisfied: pytz>=2020.1 in c:\\users\\shrey\\anaconda3\\lib\\site-packages (from pandas>=1.0.4->prophet) (2023.3.post1)\n",
      "Requirement already satisfied: tzdata>=2022.7 in c:\\users\\shrey\\anaconda3\\lib\\site-packages (from pandas>=1.0.4->prophet) (2024.1)\n",
      "Requirement already satisfied: colorama in c:\\users\\shrey\\anaconda3\\lib\\site-packages (from tqdm>=4.36.1->prophet) (0.4.6)\n",
      "Requirement already satisfied: six>=1.5 in c:\\users\\shrey\\anaconda3\\lib\\site-packages (from python-dateutil->holidays<1,>=0.25->prophet) (1.16.0)\n",
      "Downloading prophet-1.1.6-py3-none-win_amd64.whl (13.3 MB)\n",
      "   ---------------------------------------- 0.0/13.3 MB ? eta -:--:--\n",
      "   ---------------------------------------- 0.0/13.3 MB 1.9 MB/s eta 0:00:07\n",
      "   ---------------------------------------- 0.1/13.3 MB 1.4 MB/s eta 0:00:10\n",
      "   - -------------------------------------- 0.4/13.3 MB 2.5 MB/s eta 0:00:06\n",
      "   - -------------------------------------- 0.6/13.3 MB 2.9 MB/s eta 0:00:05\n",
      "   -- ------------------------------------- 0.8/13.3 MB 3.6 MB/s eta 0:00:04\n",
      "   --- ------------------------------------ 1.1/13.3 MB 4.0 MB/s eta 0:00:04\n",
      "   ---- ----------------------------------- 1.3/13.3 MB 4.1 MB/s eta 0:00:03\n",
      "   ---- ----------------------------------- 1.6/13.3 MB 4.2 MB/s eta 0:00:03\n",
      "   ----- ---------------------------------- 2.0/13.3 MB 4.7 MB/s eta 0:00:03\n",
      "   ------ --------------------------------- 2.3/13.3 MB 4.9 MB/s eta 0:00:03\n",
      "   ------- -------------------------------- 2.6/13.3 MB 4.9 MB/s eta 0:00:03\n",
      "   -------- ------------------------------- 2.9/13.3 MB 5.1 MB/s eta 0:00:03\n",
      "   --------- ------------------------------ 3.1/13.3 MB 5.2 MB/s eta 0:00:02\n",
      "   ---------- ----------------------------- 3.5/13.3 MB 5.3 MB/s eta 0:00:02\n",
      "   ----------- ---------------------------- 3.7/13.3 MB 5.4 MB/s eta 0:00:02\n",
      "   ------------ --------------------------- 4.1/13.3 MB 5.5 MB/s eta 0:00:02\n",
      "   ------------- -------------------------- 4.5/13.3 MB 5.8 MB/s eta 0:00:02\n",
      "   -------------- ------------------------- 4.8/13.3 MB 5.8 MB/s eta 0:00:02\n",
      "   --------------- ------------------------ 5.2/13.3 MB 5.9 MB/s eta 0:00:02\n",
      "   ---------------- ----------------------- 5.4/13.3 MB 5.8 MB/s eta 0:00:02\n",
      "   ----------------- ---------------------- 5.7/13.3 MB 5.9 MB/s eta 0:00:02\n",
      "   ----------------- ---------------------- 5.9/13.3 MB 5.9 MB/s eta 0:00:02\n",
      "   ------------------ --------------------- 6.2/13.3 MB 5.8 MB/s eta 0:00:02\n",
      "   ------------------- -------------------- 6.4/13.3 MB 5.8 MB/s eta 0:00:02\n",
      "   -------------------- ------------------- 6.7/13.3 MB 5.8 MB/s eta 0:00:02\n",
      "   -------------------- ------------------- 6.9/13.3 MB 5.7 MB/s eta 0:00:02\n",
      "   --------------------- ------------------ 7.1/13.3 MB 5.7 MB/s eta 0:00:02\n",
      "   ---------------------- ----------------- 7.5/13.3 MB 5.8 MB/s eta 0:00:02\n",
      "   ----------------------- ---------------- 7.8/13.3 MB 5.8 MB/s eta 0:00:01\n",
      "   ------------------------ --------------- 8.3/13.3 MB 5.9 MB/s eta 0:00:01\n",
      "   ------------------------- -------------- 8.5/13.3 MB 5.9 MB/s eta 0:00:01\n",
      "   -------------------------- ------------- 8.8/13.3 MB 5.9 MB/s eta 0:00:01\n",
      "   -------------------------- ------------- 8.9/13.3 MB 5.9 MB/s eta 0:00:01\n",
      "   --------------------------- ------------ 9.3/13.3 MB 5.9 MB/s eta 0:00:01\n",
      "   ---------------------------- ----------- 9.6/13.3 MB 6.0 MB/s eta 0:00:01\n",
      "   ----------------------------- ---------- 9.9/13.3 MB 5.9 MB/s eta 0:00:01\n",
      "   ------------------------------ --------- 10.3/13.3 MB 6.0 MB/s eta 0:00:01\n",
      "   ------------------------------- -------- 10.6/13.3 MB 6.3 MB/s eta 0:00:01\n",
      "   -------------------------------- ------- 10.8/13.3 MB 6.4 MB/s eta 0:00:01\n",
      "   --------------------------------- ------ 11.2/13.3 MB 6.4 MB/s eta 0:00:01\n",
      "   ---------------------------------- ----- 11.4/13.3 MB 6.4 MB/s eta 0:00:01\n",
      "   ---------------------------------- ----- 11.6/13.3 MB 6.4 MB/s eta 0:00:01\n",
      "   ----------------------------------- ---- 11.8/13.3 MB 6.4 MB/s eta 0:00:01\n",
      "   ------------------------------------ --- 12.1/13.3 MB 6.3 MB/s eta 0:00:01\n",
      "   ------------------------------------ --- 12.3/13.3 MB 6.2 MB/s eta 0:00:01\n",
      "   ------------------------------------- -- 12.5/13.3 MB 6.1 MB/s eta 0:00:01\n",
      "   -------------------------------------- - 12.8/13.3 MB 6.2 MB/s eta 0:00:01\n",
      "   -------------------------------------- - 13.0/13.3 MB 6.1 MB/s eta 0:00:01\n",
      "   ---------------------------------------  13.2/13.3 MB 6.1 MB/s eta 0:00:01\n",
      "   ---------------------------------------- 13.3/13.3 MB 6.1 MB/s eta 0:00:00\n",
      "Downloading cmdstanpy-1.2.5-py3-none-any.whl (94 kB)\n",
      "   ---------------------------------------- 0.0/94.5 kB ? eta -:--:--\n",
      "   ---------------------------------------  92.2/94.5 kB 2.6 MB/s eta 0:00:01\n",
      "   ---------------------------------------- 94.5/94.5 kB 1.3 MB/s eta 0:00:00\n",
      "Downloading holidays-0.67-py3-none-any.whl (820 kB)\n",
      "   ---------------------------------------- 0.0/820.7 kB ? eta -:--:--\n",
      "   ---------- ----------------------------- 225.3/820.7 kB 6.9 MB/s eta 0:00:01\n",
      "   ---------------------- ----------------- 471.0/820.7 kB 7.3 MB/s eta 0:00:01\n",
      "   ------------------------------- -------- 655.4/820.7 kB 5.2 MB/s eta 0:00:01\n",
      "   ---------------------------------------- 820.7/820.7 kB 5.7 MB/s eta 0:00:00\n",
      "Downloading stanio-0.5.1-py3-none-any.whl (8.1 kB)\n",
      "Installing collected packages: stanio, holidays, cmdstanpy, prophet\n",
      "  Attempting uninstall: holidays\n",
      "    Found existing installation: holidays 0.16\n",
      "    Uninstalling holidays-0.16:\n",
      "      Successfully uninstalled holidays-0.16\n",
      "  Attempting uninstall: cmdstanpy\n",
      "    Found existing installation: cmdstanpy 0.9.5\n",
      "    Uninstalling cmdstanpy-0.9.5:\n",
      "      Successfully uninstalled cmdstanpy-0.9.5\n",
      "Successfully installed cmdstanpy-1.2.5 holidays-0.67 prophet-1.1.6 stanio-0.5.1\n"
     ]
    },
    {
     "name": "stderr",
     "output_type": "stream",
     "text": [
      "WARNING: Ignoring invalid distribution -pencv-python-headless (c:\\users\\shrey\\anaconda3\\lib\\site-packages)\n",
      "WARNING: Ignoring invalid distribution -pencv-python-headless (c:\\users\\shrey\\anaconda3\\lib\\site-packages)\n",
      "WARNING: There was an error checking the latest version of pip.\n"
     ]
    }
   ],
   "source": [
    "!pip install prophet"
   ]
  },
  {
   "cell_type": "code",
   "execution_count": 3,
   "id": "d0c53892",
   "metadata": {},
   "outputs": [
    {
     "ename": "FileNotFoundError",
     "evalue": "The file ../data/commodity_demand_20190103_20241231.xlsx does not exist.",
     "output_type": "error",
     "traceback": [
      "\u001b[1;31m---------------------------------------------------------------------------\u001b[0m",
      "\u001b[1;31mFileNotFoundError\u001b[0m                         Traceback (most recent call last)",
      "Input \u001b[1;32mIn [3]\u001b[0m, in \u001b[0;36m<cell line: 7>\u001b[1;34m()\u001b[0m\n\u001b[0;32m      3\u001b[0m sys\u001b[38;5;241m.\u001b[39mpath\u001b[38;5;241m.\u001b[39mappend(\u001b[38;5;124m'\u001b[39m\u001b[38;5;124m..\u001b[39m\u001b[38;5;124m'\u001b[39m)\n\u001b[0;32m      5\u001b[0m \u001b[38;5;28;01mfrom\u001b[39;00m \u001b[38;5;21;01mdataReader\u001b[39;00m \u001b[38;5;28;01mimport\u001b[39;00m read_excel\n\u001b[1;32m----> 7\u001b[0m data \u001b[38;5;241m=\u001b[39m \u001b[43mread_excel\u001b[49m\u001b[43m(\u001b[49m\u001b[38;5;124;43m'\u001b[39;49m\u001b[38;5;124;43m../data/commodity_demand_20190103_20241231.xlsx\u001b[39;49m\u001b[38;5;124;43m'\u001b[39;49m\u001b[43m)\u001b[49m\n\u001b[0;32m      9\u001b[0m \u001b[38;5;28mprint\u001b[39m(data\u001b[38;5;241m.\u001b[39mhead())\n",
      "File \u001b[1;32m~\\Projects\\SupplyChainOptimization\\MLModels\\..\\dataReader.py:9\u001b[0m, in \u001b[0;36mread_excel\u001b[1;34m(filepath)\u001b[0m\n\u001b[0;32m      7\u001b[0m \u001b[38;5;250m\u001b[39m\u001b[38;5;124;03m\"\"\"Read the synthetic demand data from an Excel file.\"\"\"\u001b[39;00m\n\u001b[0;32m      8\u001b[0m \u001b[38;5;28;01mif\u001b[39;00m \u001b[38;5;129;01mnot\u001b[39;00m os\u001b[38;5;241m.\u001b[39mpath\u001b[38;5;241m.\u001b[39mexists(filepath):\n\u001b[1;32m----> 9\u001b[0m     \u001b[38;5;28;01mraise\u001b[39;00m \u001b[38;5;167;01mFileNotFoundError\u001b[39;00m(\u001b[38;5;124mf\u001b[39m\u001b[38;5;124m\"\u001b[39m\u001b[38;5;124mThe file \u001b[39m\u001b[38;5;132;01m{\u001b[39;00mfilepath\u001b[38;5;132;01m}\u001b[39;00m\u001b[38;5;124m does not exist.\u001b[39m\u001b[38;5;124m\"\u001b[39m)\n\u001b[0;32m     11\u001b[0m df \u001b[38;5;241m=\u001b[39m pd\u001b[38;5;241m.\u001b[39mread_excel(filepath, sheet_name\u001b[38;5;241m=\u001b[39m\u001b[38;5;124m\"\u001b[39m\u001b[38;5;124mSheet1\u001b[39m\u001b[38;5;124m\"\u001b[39m, index_col\u001b[38;5;241m=\u001b[39m\u001b[38;5;241m0\u001b[39m, parse_dates\u001b[38;5;241m=\u001b[39m\u001b[38;5;28;01mTrue\u001b[39;00m)\n\u001b[0;32m     12\u001b[0m \u001b[38;5;28;01mreturn\u001b[39;00m df\n",
      "\u001b[1;31mFileNotFoundError\u001b[0m: The file ../data/commodity_demand_20190103_20241231.xlsx does not exist."
     ]
    }
   ],
   "source": [
    "# Loading the data from Excel file\n",
    "import sys\n",
    "sys.path.append('..')\n",
    "\n",
    "from dataReader import read_excel\n",
    "\n",
    "data = read_excel('../data/commodity_demand_20190103_20241231.xlsx')\n",
    "\n",
    "print(data.head())"
   ]
  },
  {
   "cell_type": "code",
   "execution_count": 2,
   "id": "92c114f9",
   "metadata": {},
   "outputs": [
    {
     "name": "stderr",
     "output_type": "stream",
     "text": [
      "C:\\Users\\shrey\\anaconda3\\lib\\site-packages\\pandas\\core\\arrays\\masked.py:60: UserWarning: Pandas requires version '1.3.6' or newer of 'bottleneck' (version '1.3.5' currently installed).\n",
      "  from pandas.core import (\n"
     ]
    },
    {
     "ename": "FileNotFoundError",
     "evalue": "[Errno 2] No such file or directory: '../data/commodity_demand_20190103_20241231.xlsx'",
     "output_type": "error",
     "traceback": [
      "\u001b[1;31m---------------------------------------------------------------------------\u001b[0m",
      "\u001b[1;31mFileNotFoundError\u001b[0m                         Traceback (most recent call last)",
      "Input \u001b[1;32mIn [2]\u001b[0m, in \u001b[0;36m<cell line: 6>\u001b[1;34m()\u001b[0m\n\u001b[0;32m      3\u001b[0m \u001b[38;5;28;01mimport\u001b[39;00m \u001b[38;5;21;01mmatplotlib\u001b[39;00m\u001b[38;5;21;01m.\u001b[39;00m\u001b[38;5;21;01mpyplot\u001b[39;00m \u001b[38;5;28;01mas\u001b[39;00m \u001b[38;5;21;01mplt\u001b[39;00m\n\u001b[0;32m      5\u001b[0m \u001b[38;5;66;03m# Load data\u001b[39;00m\n\u001b[1;32m----> 6\u001b[0m data \u001b[38;5;241m=\u001b[39m \u001b[43mpd\u001b[49m\u001b[38;5;241;43m.\u001b[39;49m\u001b[43mread_excel\u001b[49m\u001b[43m(\u001b[49m\u001b[38;5;124;43m'\u001b[39;49m\u001b[38;5;124;43m../data/commodity_demand_20190103_20241231.xlsx\u001b[39;49m\u001b[38;5;124;43m'\u001b[39;49m\u001b[43m,\u001b[49m\u001b[43m \u001b[49m\u001b[43mindex_col\u001b[49m\u001b[38;5;241;43m=\u001b[39;49m\u001b[38;5;241;43m0\u001b[39;49m\u001b[43m)\u001b[49m\n\u001b[0;32m      7\u001b[0m data\u001b[38;5;241m.\u001b[39mindex \u001b[38;5;241m=\u001b[39m pd\u001b[38;5;241m.\u001b[39mto_datetime(data\u001b[38;5;241m.\u001b[39mindex)  \u001b[38;5;66;03m# Ensure the index is a DateTime index\u001b[39;00m\n\u001b[0;32m      9\u001b[0m \u001b[38;5;66;03m# Select the commodity for forecasting\u001b[39;00m\n",
      "File \u001b[1;32m~\\anaconda3\\lib\\site-packages\\pandas\\io\\excel\\_base.py:495\u001b[0m, in \u001b[0;36mread_excel\u001b[1;34m(io, sheet_name, header, names, index_col, usecols, dtype, engine, converters, true_values, false_values, skiprows, nrows, na_values, keep_default_na, na_filter, verbose, parse_dates, date_parser, date_format, thousands, decimal, comment, skipfooter, storage_options, dtype_backend, engine_kwargs)\u001b[0m\n\u001b[0;32m    493\u001b[0m \u001b[38;5;28;01mif\u001b[39;00m \u001b[38;5;129;01mnot\u001b[39;00m \u001b[38;5;28misinstance\u001b[39m(io, ExcelFile):\n\u001b[0;32m    494\u001b[0m     should_close \u001b[38;5;241m=\u001b[39m \u001b[38;5;28;01mTrue\u001b[39;00m\n\u001b[1;32m--> 495\u001b[0m     io \u001b[38;5;241m=\u001b[39m \u001b[43mExcelFile\u001b[49m\u001b[43m(\u001b[49m\n\u001b[0;32m    496\u001b[0m \u001b[43m        \u001b[49m\u001b[43mio\u001b[49m\u001b[43m,\u001b[49m\n\u001b[0;32m    497\u001b[0m \u001b[43m        \u001b[49m\u001b[43mstorage_options\u001b[49m\u001b[38;5;241;43m=\u001b[39;49m\u001b[43mstorage_options\u001b[49m\u001b[43m,\u001b[49m\n\u001b[0;32m    498\u001b[0m \u001b[43m        \u001b[49m\u001b[43mengine\u001b[49m\u001b[38;5;241;43m=\u001b[39;49m\u001b[43mengine\u001b[49m\u001b[43m,\u001b[49m\n\u001b[0;32m    499\u001b[0m \u001b[43m        \u001b[49m\u001b[43mengine_kwargs\u001b[49m\u001b[38;5;241;43m=\u001b[39;49m\u001b[43mengine_kwargs\u001b[49m\u001b[43m,\u001b[49m\n\u001b[0;32m    500\u001b[0m \u001b[43m    \u001b[49m\u001b[43m)\u001b[49m\n\u001b[0;32m    501\u001b[0m \u001b[38;5;28;01melif\u001b[39;00m engine \u001b[38;5;129;01mand\u001b[39;00m engine \u001b[38;5;241m!=\u001b[39m io\u001b[38;5;241m.\u001b[39mengine:\n\u001b[0;32m    502\u001b[0m     \u001b[38;5;28;01mraise\u001b[39;00m \u001b[38;5;167;01mValueError\u001b[39;00m(\n\u001b[0;32m    503\u001b[0m         \u001b[38;5;124m\"\u001b[39m\u001b[38;5;124mEngine should not be specified when passing \u001b[39m\u001b[38;5;124m\"\u001b[39m\n\u001b[0;32m    504\u001b[0m         \u001b[38;5;124m\"\u001b[39m\u001b[38;5;124man ExcelFile - ExcelFile already has the engine set\u001b[39m\u001b[38;5;124m\"\u001b[39m\n\u001b[0;32m    505\u001b[0m     )\n",
      "File \u001b[1;32m~\\anaconda3\\lib\\site-packages\\pandas\\io\\excel\\_base.py:1550\u001b[0m, in \u001b[0;36mExcelFile.__init__\u001b[1;34m(self, path_or_buffer, engine, storage_options, engine_kwargs)\u001b[0m\n\u001b[0;32m   1548\u001b[0m     ext \u001b[38;5;241m=\u001b[39m \u001b[38;5;124m\"\u001b[39m\u001b[38;5;124mxls\u001b[39m\u001b[38;5;124m\"\u001b[39m\n\u001b[0;32m   1549\u001b[0m \u001b[38;5;28;01melse\u001b[39;00m:\n\u001b[1;32m-> 1550\u001b[0m     ext \u001b[38;5;241m=\u001b[39m \u001b[43minspect_excel_format\u001b[49m\u001b[43m(\u001b[49m\n\u001b[0;32m   1551\u001b[0m \u001b[43m        \u001b[49m\u001b[43mcontent_or_path\u001b[49m\u001b[38;5;241;43m=\u001b[39;49m\u001b[43mpath_or_buffer\u001b[49m\u001b[43m,\u001b[49m\u001b[43m \u001b[49m\u001b[43mstorage_options\u001b[49m\u001b[38;5;241;43m=\u001b[39;49m\u001b[43mstorage_options\u001b[49m\n\u001b[0;32m   1552\u001b[0m \u001b[43m    \u001b[49m\u001b[43m)\u001b[49m\n\u001b[0;32m   1553\u001b[0m     \u001b[38;5;28;01mif\u001b[39;00m ext \u001b[38;5;129;01mis\u001b[39;00m \u001b[38;5;28;01mNone\u001b[39;00m:\n\u001b[0;32m   1554\u001b[0m         \u001b[38;5;28;01mraise\u001b[39;00m \u001b[38;5;167;01mValueError\u001b[39;00m(\n\u001b[0;32m   1555\u001b[0m             \u001b[38;5;124m\"\u001b[39m\u001b[38;5;124mExcel file format cannot be determined, you must specify \u001b[39m\u001b[38;5;124m\"\u001b[39m\n\u001b[0;32m   1556\u001b[0m             \u001b[38;5;124m\"\u001b[39m\u001b[38;5;124man engine manually.\u001b[39m\u001b[38;5;124m\"\u001b[39m\n\u001b[0;32m   1557\u001b[0m         )\n",
      "File \u001b[1;32m~\\anaconda3\\lib\\site-packages\\pandas\\io\\excel\\_base.py:1402\u001b[0m, in \u001b[0;36minspect_excel_format\u001b[1;34m(content_or_path, storage_options)\u001b[0m\n\u001b[0;32m   1399\u001b[0m \u001b[38;5;28;01mif\u001b[39;00m \u001b[38;5;28misinstance\u001b[39m(content_or_path, \u001b[38;5;28mbytes\u001b[39m):\n\u001b[0;32m   1400\u001b[0m     content_or_path \u001b[38;5;241m=\u001b[39m BytesIO(content_or_path)\n\u001b[1;32m-> 1402\u001b[0m \u001b[38;5;28;01mwith\u001b[39;00m \u001b[43mget_handle\u001b[49m\u001b[43m(\u001b[49m\n\u001b[0;32m   1403\u001b[0m \u001b[43m    \u001b[49m\u001b[43mcontent_or_path\u001b[49m\u001b[43m,\u001b[49m\u001b[43m \u001b[49m\u001b[38;5;124;43m\"\u001b[39;49m\u001b[38;5;124;43mrb\u001b[39;49m\u001b[38;5;124;43m\"\u001b[39;49m\u001b[43m,\u001b[49m\u001b[43m \u001b[49m\u001b[43mstorage_options\u001b[49m\u001b[38;5;241;43m=\u001b[39;49m\u001b[43mstorage_options\u001b[49m\u001b[43m,\u001b[49m\u001b[43m \u001b[49m\u001b[43mis_text\u001b[49m\u001b[38;5;241;43m=\u001b[39;49m\u001b[38;5;28;43;01mFalse\u001b[39;49;00m\n\u001b[0;32m   1404\u001b[0m \u001b[43m\u001b[49m\u001b[43m)\u001b[49m \u001b[38;5;28;01mas\u001b[39;00m handle:\n\u001b[0;32m   1405\u001b[0m     stream \u001b[38;5;241m=\u001b[39m handle\u001b[38;5;241m.\u001b[39mhandle\n\u001b[0;32m   1406\u001b[0m     stream\u001b[38;5;241m.\u001b[39mseek(\u001b[38;5;241m0\u001b[39m)\n",
      "File \u001b[1;32m~\\anaconda3\\lib\\site-packages\\pandas\\io\\common.py:882\u001b[0m, in \u001b[0;36mget_handle\u001b[1;34m(path_or_buf, mode, encoding, compression, memory_map, is_text, errors, storage_options)\u001b[0m\n\u001b[0;32m    873\u001b[0m         handle \u001b[38;5;241m=\u001b[39m \u001b[38;5;28mopen\u001b[39m(\n\u001b[0;32m    874\u001b[0m             handle,\n\u001b[0;32m    875\u001b[0m             ioargs\u001b[38;5;241m.\u001b[39mmode,\n\u001b[1;32m   (...)\u001b[0m\n\u001b[0;32m    878\u001b[0m             newline\u001b[38;5;241m=\u001b[39m\u001b[38;5;124m\"\u001b[39m\u001b[38;5;124m\"\u001b[39m,\n\u001b[0;32m    879\u001b[0m         )\n\u001b[0;32m    880\u001b[0m     \u001b[38;5;28;01melse\u001b[39;00m:\n\u001b[0;32m    881\u001b[0m         \u001b[38;5;66;03m# Binary mode\u001b[39;00m\n\u001b[1;32m--> 882\u001b[0m         handle \u001b[38;5;241m=\u001b[39m \u001b[38;5;28;43mopen\u001b[39;49m\u001b[43m(\u001b[49m\u001b[43mhandle\u001b[49m\u001b[43m,\u001b[49m\u001b[43m \u001b[49m\u001b[43mioargs\u001b[49m\u001b[38;5;241;43m.\u001b[39;49m\u001b[43mmode\u001b[49m\u001b[43m)\u001b[49m\n\u001b[0;32m    883\u001b[0m     handles\u001b[38;5;241m.\u001b[39mappend(handle)\n\u001b[0;32m    885\u001b[0m \u001b[38;5;66;03m# Convert BytesIO or file objects passed with an encoding\u001b[39;00m\n",
      "\u001b[1;31mFileNotFoundError\u001b[0m: [Errno 2] No such file or directory: '../data/commodity_demand_20190103_20241231.xlsx'"
     ]
    }
   ],
   "source": [
    "import pandas as pd\n",
    "from prophet import Prophet\n",
    "import matplotlib.pyplot as plt\n",
    "\n",
    "# Load data\n",
    "\n",
    "data.index = pd.to_datetime(data.index)  # Ensure the index is a DateTime index\n",
    "\n",
    "# Select the commodity for forecasting\n",
    "commodity = \"Corn\"\n",
    "df = data[[commodity]].reset_index()\n",
    "df.columns = [\"ds\", \"y\"]  # Prophet requires 'ds' (date) and 'y' (value)\n",
    "\n",
    "# Initialize and fit the Prophet model\n",
    "model = Prophet()\n",
    "model.fit(df)\n",
    "\n",
    "# Create future dataframe (e.g., forecasting 90 days ahead)\n",
    "future = model.make_future_dataframe(periods=90)\n",
    "forecast = model.predict(future)\n",
    "\n",
    "# Plot forecast\n",
    "fig = model.plot(forecast)\n",
    "plt.title(f'Forecast for {commodity}')\n",
    "plt.show()\n"
   ]
  },
  {
   "cell_type": "code",
   "execution_count": null,
   "id": "6e379776",
   "metadata": {},
   "outputs": [],
   "source": [
    "for commodity in data.columns:\n",
    "    df = data[[commodity]].reset_index()\n",
    "    df.columns = [\"ds\", \"y\"]\n",
    "\n",
    "    model = Prophet()\n",
    "    model.fit(df)\n",
    "\n",
    "    future = model.make_future_dataframe(periods=90)\n",
    "    forecast = model.predict(future)\n",
    "\n",
    "    # Plot forecast\n",
    "    fig = model.plot(forecast)\n",
    "    plt.title(f'Forecast for {commodity}')\n",
    "    plt.show()\n"
   ]
  },
  {
   "cell_type": "code",
   "execution_count": null,
   "id": "6700a6a3",
   "metadata": {},
   "outputs": [],
   "source": []
  }
 ],
 "metadata": {
  "kernelspec": {
   "display_name": "Python 3 (ipykernel)",
   "language": "python",
   "name": "python3"
  },
  "language_info": {
   "codemirror_mode": {
    "name": "ipython",
    "version": 3
   },
   "file_extension": ".py",
   "mimetype": "text/x-python",
   "name": "python",
   "nbconvert_exporter": "python",
   "pygments_lexer": "ipython3",
   "version": "3.9.18"
  }
 },
 "nbformat": 4,
 "nbformat_minor": 5
}
